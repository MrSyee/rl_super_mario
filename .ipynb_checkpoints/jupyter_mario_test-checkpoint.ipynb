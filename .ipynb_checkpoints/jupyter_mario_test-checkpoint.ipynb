{
 "cells": [
  {
   "cell_type": "code",
   "execution_count": 1,
   "metadata": {},
   "outputs": [
    {
     "name": "stdout",
     "output_type": "stream",
     "text": [
      "import OK\n"
     ]
    }
   ],
   "source": [
    "import gym\n",
    "import ppaquette_gym_super_mario\n",
    "import numpy as np\n",
    "\n",
    "from wrappers import MarioActionSpaceWrapper\n",
    "from wrappers import ProcessFrame84\n",
    "\n",
    "print (\"import OK\")"
   ]
  },
  {
   "cell_type": "code",
   "execution_count": 2,
   "metadata": {},
   "outputs": [
    {
     "name": "stdout",
     "output_type": "stream",
     "text": [
      "MultiDiscrete6\n",
      "Box(224, 256, 3)\n"
     ]
    }
   ],
   "source": [
    "# Create env\n",
    "env = gym.make(\"ppaquette/SuperMarioBros-1-1-v0\")\n",
    "print(env.action_space)\n",
    "print(env.observation_space)"
   ]
  },
  {
   "cell_type": "code",
   "execution_count": 3,
   "metadata": {},
   "outputs": [
    {
     "name": "stdout",
     "output_type": "stream",
     "text": [
      "Discrete(14)\n",
      "Box(84, 84, 1)\n"
     ]
    }
   ],
   "source": [
    "# Apply action space Wrapper\n",
    "env = MarioActionSpaceWrapper(env)\n",
    "# Apply observation space wrapper\n",
    "env = ProcessFrame84(env)\n",
    "print (env.action_space)\n",
    "print (env.observation_space)"
   ]
  },
  {
   "cell_type": "code",
   "execution_count": 20,
   "metadata": {},
   "outputs": [
    {
     "name": "stdout",
     "output_type": "stream",
     "text": [
      "(84, 84, 1)\n",
      "(1, 84, 84, 4)\n"
     ]
    }
   ],
   "source": [
    "obs = env.reset()\n",
    "print (obs.shape)\n",
    "history = np.stack((obs, obs,obs, obs), axis=2)\n",
    "history = np.reshape([history], (1, 84, 84, 4))\n",
    "print (history.shape)"
   ]
  },
  {
   "cell_type": "markdown",
   "metadata": {},
   "source": [
    "Random action mario"
   ]
  },
  {
   "cell_type": "code",
   "execution_count": 22,
   "metadata": {},
   "outputs": [],
   "source": [
    "import random\n",
    "\n",
    "done = False\n",
    "while not done:\n",
    "    env.render()\n",
    "    action = random.randint(7,10)\n",
    "    if action == 0:\n",
    "        real_action = [0,0,0,1,1,1],\n",
    "    elif action == 1:\n",
    "        real_action = [0,0,0,1,0,1],\n",
    "    elif action == 2:\n",
    "        real_action = [0,0,0,1,1,0],\n",
    "    else:\n",
    "        real_action = [0,0,0,1,0,0],\n",
    "    observe, reward, done, info = env.step(action)\n"
   ]
  },
  {
   "cell_type": "markdown",
   "metadata": {},
   "source": [
    "RGB2GRAY speed check"
   ]
  },
  {
   "cell_type": "code",
   "execution_count": 56,
   "metadata": {},
   "outputs": [
    {
     "name": "stdout",
     "output_type": "stream",
     "text": [
      "(256, 224, 3)\n"
     ]
    }
   ],
   "source": [
    "import cv2\n",
    "import numpy as np\n",
    "import time\n",
    "\n",
    "img = cv2.imread('test.png', cv2.IMREAD_COLOR)\n",
    "print (img.shape)"
   ]
  },
  {
   "cell_type": "code",
   "execution_count": 48,
   "metadata": {},
   "outputs": [
    {
     "name": "stdout",
     "output_type": "stream",
     "text": [
      "spend time : 0.0008566379547119141\n"
     ]
    }
   ],
   "source": [
    "start_time = time.time()\n",
    "gray_img1 = img[:, :, 0] * 0.299 + img[:, :, 1] * 0.587 + img[:, :, 2] * 0.114\n",
    "end_time = time.time()\n",
    "\n",
    "print (\"spend time : \" + str(end_time - start_time))"
   ]
  },
  {
   "cell_type": "code",
   "execution_count": 49,
   "metadata": {},
   "outputs": [
    {
     "name": "stdout",
     "output_type": "stream",
     "text": [
      "spend time : 0.00044798851013183594\n"
     ]
    }
   ],
   "source": [
    "start_time = time.time()\n",
    "gray_img2 = cv2.cvtColor(img, cv2.COLOR_BGR2GRAY)\n",
    "end_time = time.time()\n",
    "\n",
    "print (\"spend time : \" + str(end_time - start_time))"
   ]
  },
  {
   "cell_type": "code",
   "execution_count": 50,
   "metadata": {},
   "outputs": [
    {
     "name": "stdout",
     "output_type": "stream",
     "text": [
      "spend time : 0.006071329116821289\n"
     ]
    }
   ],
   "source": [
    "from skimage.color import rgb2gray\n",
    "start_time = time.time()\n",
    "gray_img3 = rgb2gray(img)\n",
    "end_time = time.time()\n",
    "\n",
    "print (\"spend time : \" + str(end_time - start_time))"
   ]
  }
 ],
 "metadata": {
  "kernelspec": {
   "display_name": "Python 3",
   "language": "python",
   "name": "python3"
  },
  "language_info": {
   "codemirror_mode": {
    "name": "ipython",
    "version": 3
   },
   "file_extension": ".py",
   "mimetype": "text/x-python",
   "name": "python",
   "nbconvert_exporter": "python",
   "pygments_lexer": "ipython3",
   "version": "3.5.4"
  }
 },
 "nbformat": 4,
 "nbformat_minor": 2
}
