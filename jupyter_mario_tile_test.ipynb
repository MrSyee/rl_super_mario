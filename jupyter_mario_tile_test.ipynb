{
 "cells": [
  {
   "cell_type": "code",
   "execution_count": 1,
   "metadata": {},
   "outputs": [
    {
     "name": "stdout",
     "output_type": "stream",
     "text": [
      "import OK\n"
     ]
    }
   ],
   "source": [
    "import gym\n",
    "import ppaquette_gym_super_mario\n",
    "import numpy as np\n",
    "\n",
    "from wrappers import MarioActionSpaceWrapper\n",
    "from wrappers import ProcessFrame84\n",
    "\n",
    "print (\"import OK\")"
   ]
  },
  {
   "cell_type": "code",
   "execution_count": 2,
   "metadata": {},
   "outputs": [
    {
     "name": "stdout",
     "output_type": "stream",
     "text": [
      "MultiDiscrete6\n",
      "Box(13, 16)\n"
     ]
    }
   ],
   "source": [
    "# Create env\n",
    "env = gym.make(\"ppaquette/SuperMarioBros-1-1-Tiles-v0\")\n",
    "print(env.action_space)\n",
    "print(env.observation_space)"
   ]
  },
  {
   "cell_type": "code",
   "execution_count": 3,
   "metadata": {},
   "outputs": [
    {
     "name": "stdout",
     "output_type": "stream",
     "text": [
      "Discrete(14)\n"
     ]
    }
   ],
   "source": [
    "# Apply action space Wrapper\n",
    "env = MarioActionSpaceWrapper(env)\n",
    "print (env.action_space)"
   ]
  },
  {
   "cell_type": "code",
   "execution_count": 4,
   "metadata": {},
   "outputs": [
    {
     "name": "stdout",
     "output_type": "stream",
     "text": [
      "(13, 16)\n",
      "(1, 13, 16, 4)\n"
     ]
    }
   ],
   "source": [
    "obs = env.reset()\n",
    "print (obs.shape)\n",
    "history = np.stack((obs, obs,obs, obs), axis=2)\n",
    "history = np.reshape([history], (1, 13, 16, 4))\n",
    "print (history.shape)"
   ]
  },
  {
   "cell_type": "code",
   "execution_count": 5,
   "metadata": {},
   "outputs": [],
   "source": [
    "import random\n",
    "\n",
    "done = False\n",
    "while not done:\n",
    "    env.render()\n",
    "    action = random.randint(0,3)\n",
    "    if action == 0:\n",
    "        real_action = [0,0,0,1,1,1]\n",
    "    elif action == 1:\n",
    "        real_action = [0,0,0,1,0,1]\n",
    "    elif action == 2:\n",
    "        real_action = [0,0,0,1,1,0]\n",
    "    else:\n",
    "        real_action = [0,0,0,1,0,0]\n",
    "    observe, reward, done, info = env.step(real_action)\n"
   ]
  },
  {
   "cell_type": "code",
   "execution_count": null,
   "metadata": {
    "collapsed": true
   },
   "outputs": [],
   "source": []
  }
 ],
 "metadata": {
  "kernelspec": {
   "display_name": "Python 3",
   "language": "python",
   "name": "python3"
  },
  "language_info": {
   "codemirror_mode": {
    "name": "ipython",
    "version": 3
   },
   "file_extension": ".py",
   "mimetype": "text/x-python",
   "name": "python",
   "nbconvert_exporter": "python",
   "pygments_lexer": "ipython3",
   "version": "3.6.3"
  }
 },
 "nbformat": 4,
 "nbformat_minor": 2
}
